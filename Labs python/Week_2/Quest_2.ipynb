{
 "cells": [
  {
   "cell_type": "code",
   "execution_count": 1,
   "id": "83f685a7-5aac-4696-8bff-984305d762ec",
   "metadata": {
    "tags": []
   },
   "outputs": [],
   "source": [
    "import pandas as pd\n",
    "import numpy as np"
   ]
  },
  {
   "cell_type": "code",
   "execution_count": 2,
   "id": "33dae5c6-0265-4e65-884b-9b8bdecb6908",
   "metadata": {
    "tags": []
   },
   "outputs": [],
   "source": [
    "df=pd.read_csv('global-shark-attack.csv', sep=';')"
   ]
  },
  {
   "cell_type": "code",
   "execution_count": 3,
   "id": "37f0796d-e4c2-4096-a85a-20c35246d479",
   "metadata": {
    "tags": []
   },
   "outputs": [],
   "source": [
    "df.columns = [e.lower().replace(' ', '_') for e in df.columns]"
   ]
  },
  {
   "cell_type": "code",
   "execution_count": 4,
   "id": "348af61a-1eef-4a6e-95fa-a342bf0567f5",
   "metadata": {
    "tags": []
   },
   "outputs": [],
   "source": [
    "df.rename(columns={'species_': 'species' ,\n",
    "                       'case_number.1':'case_number_',\n",
    "                       'fatal_(y/n)':'fatal',\n",
    "                       'sex_':'sex'},inplace=True)"
   ]
  },
  {
   "cell_type": "code",
   "execution_count": 5,
   "id": "df1cf0cb-9027-48cd-abd5-1dd5a281c2da",
   "metadata": {
    "tags": []
   },
   "outputs": [],
   "source": [
    "eliminar_columnas=[\"date\",\"time\",\"pdf\",\"href_formula\",\"href\",\"case_number\",\"case_number_\",\"original_order\",'investigator_or_source']\n",
    "df =df.drop(columns=eliminar_columnas)"
   ]
  },
  {
   "cell_type": "code",
   "execution_count": 6,
   "id": "6ff2611c-2473-4d33-9e84-1a88f25f7934",
   "metadata": {
    "tags": []
   },
   "outputs": [],
   "source": [
    "\n",
    "    df.age=df.age.dropna().apply(lambda x:x.replace(' ','_'))\n",
    "    df.age=df.age.str.lower()\n",
    "    df.injury=df.injury.dropna().apply(lambda x:x.replace(' ','_'))\n",
    "    df.injury=df.injury.str.lower()\n",
    "    df.fatal=df.fatal.dropna().apply(lambda x:x.replace(' ','_'))\n",
    "    df.fatal=df.fatal.str.lower()\n",
    "    df.species=df.species.dropna().apply(lambda x:x.replace(' ','_'))\n",
    "    df.species=df.species.str.lower()\n",
    "    df.location=df.location.dropna().apply(lambda x:x.replace(' ','_'))\n",
    "    df.location=df.location.str.lower()\n",
    "    df.area=df.area.dropna().apply(lambda x:x.replace(' ','_'))\n",
    "    df.area=df.area.str.lower()\n",
    "    df.country=df.country.dropna().apply(lambda x:x.replace(' ','_'))\n",
    "    df.country=df.country.str.lower()\n",
    "    df.sex=df.sex.dropna().apply(lambda x:x.replace(' ','_'))\n",
    "    df.sex=df.sex.str.lower()\n",
    "    df.name=df.name.dropna().apply(lambda x:x.replace(' ','_'))\n",
    "    df.name=df.name.str.lower()\n",
    "    df.type=df.type.dropna().apply(lambda x:x.replace(' ','_'))\n",
    "    df.type=df.type.str.lower()\n",
    "    df.activity=df.activity.dropna().apply(lambda x:x.replace(' ','_'))\n",
    "    df.activity=df.activity.str.lower()"
   ]
  },
  {
   "cell_type": "code",
   "execution_count": 7,
   "id": "48b3d8e3-5d20-4e8c-9820-21c942944a44",
   "metadata": {
    "tags": []
   },
   "outputs": [],
   "source": [
    "#Este codigo ordena fatal a valores de si y de no\n",
    "fix_fatal={'y_x_2':'y','f':'y','nq':'y','2017.0':'n'}\n",
    "df['fatal'] = df['fatal'].apply(lambda x: fix_fatal.get(str(x), x))\n"
   ]
  },
  {
   "cell_type": "code",
   "execution_count": 8,
   "id": "111067c4-c28b-4508-966d-a970dfe6731b",
   "metadata": {
    "tags": []
   },
   "outputs": [],
   "source": [
    "df['country'].fillna('Unknown', inplace=True)\n",
    "\n",
    "mask = df['country'].str.contains('usa',na=False)\n",
    "df.loc[mask, 'country'] = 'usa'"
   ]
  },
  {
   "cell_type": "code",
   "execution_count": 9,
   "id": "262de9ed-86d1-4c5a-9c32-4c2096d4e88c",
   "metadata": {
    "tags": []
   },
   "outputs": [],
   "source": [
    "df_usa=df[(df['country']=='usa')]"
   ]
  },
  {
   "cell_type": "code",
   "execution_count": 10,
   "id": "404509cd-a0c6-4d42-acd1-2c3ac8c44096",
   "metadata": {
    "tags": []
   },
   "outputs": [],
   "source": [
    "mask = df['country'].str.contains('usa', case=False, na=False)\n",
    "usa_rows = df[mask]\n",
    "df= usa_rows"
   ]
  },
  {
   "cell_type": "code",
   "execution_count": 11,
   "id": "fee60fe9-cfe0-452b-a2db-4fbab0ddfcf7",
   "metadata": {
    "tags": []
   },
   "outputs": [],
   "source": [
    "df['name'] = df['name'].fillna('unknown_name')\n",
    "df = df.reset_index(drop=True)\n"
   ]
  },
  {
   "cell_type": "code",
   "execution_count": 12,
   "id": "6a08f55d-f54d-4888-9f0e-e3d172ad6cec",
   "metadata": {
    "tags": []
   },
   "outputs": [],
   "source": [
    "fix_name={'female':'unknown','male':'uknown_name'}\n",
    "df['name'] = df['name'].apply(lambda x: fix_name.get(str(x), x))"
   ]
  },
  {
   "cell_type": "code",
   "execution_count": 13,
   "id": "dc18ac85-33d7-42d2-a1b0-81c031131f9e",
   "metadata": {
    "tags": []
   },
   "outputs": [],
   "source": [
    "df['activity'] = df['activity'].fillna('unknown_activity')\n",
    "df = df.reset_index(drop=True)"
   ]
  },
  {
   "cell_type": "code",
   "execution_count": 14,
   "id": "337d0a57-ed72-402f-8ae5-fce446016239",
   "metadata": {
    "tags": []
   },
   "outputs": [],
   "source": [
    "pd.set_option('display.max_rows', None)"
   ]
  },
  {
   "cell_type": "code",
   "execution_count": 15,
   "id": "fbe464e1-970b-4762-99f7-fc0212b89854",
   "metadata": {
    "tags": []
   },
   "outputs": [],
   "source": [
    "# RENOMBRAR ACTIVIDAD"
   ]
  },
  {
   "cell_type": "code",
   "execution_count": 16,
   "id": "53307199-f2a0-46f1-aa63-f0d98be74bd9",
   "metadata": {
    "tags": []
   },
   "outputs": [],
   "source": [
    "def rename_activity_1(activity):\n",
    "    keywords = ['walking', 'swim', 'wading', 'float','standing','bathing','tread']\n",
    "    if any(keyword in activity.lower() for keyword in keywords):\n",
    "        return 'swimming'\n",
    "    return activity"
   ]
  },
  {
   "cell_type": "code",
   "execution_count": 17,
   "id": "64e75ddb-ffc9-42ff-bb14-16531552121c",
   "metadata": {
    "tags": []
   },
   "outputs": [],
   "source": [
    "def rename_activity_2(activity):\n",
    "    keywords = ['div', 'jumping', 'scub', 'feed','tow']\n",
    "    if any(keyword in activity.lower() for keyword in keywords):\n",
    "        return 'diving'\n",
    "    return activity"
   ]
  },
  {
   "cell_type": "code",
   "execution_count": 18,
   "id": "6e2d35ef-77ea-4ded-93e5-c4fde64d7d75",
   "metadata": {
    "tags": []
   },
   "outputs": [],
   "source": [
    "def rename_activity_3(activity):\n",
    "    keywords = ['fish', 'hunt', 'tag','net','spear','play']\n",
    "    if any(keyword in activity.lower() for keyword in keywords):\n",
    "        return 'fishing'\n",
    "    return activity"
   ]
  },
  {
   "cell_type": "code",
   "execution_count": 19,
   "id": "e98ddc64-3c83-4242-84c2-4cbcb526c589",
   "metadata": {
    "tags": []
   },
   "outputs": [],
   "source": [
    "def rename_activity_4(activity):\n",
    "    keywords = ['board']\n",
    "    if any(keyword in activity.lower() for keyword in keywords):\n",
    "        return 'boarding'\n",
    "    return activity"
   ]
  },
  {
   "cell_type": "code",
   "execution_count": 20,
   "id": "bf6e2117-7d52-450c-a376-c0bbde50dc89",
   "metadata": {
    "tags": []
   },
   "outputs": [],
   "source": [
    "def rename_activity_5(activity):\n",
    "    keywords = ['boat','disas']\n",
    "    if any(keyword in activity.lower() for keyword in keywords):\n",
    "        return 'boat_accident'\n",
    "    return activity"
   ]
  },
  {
   "cell_type": "code",
   "execution_count": 21,
   "id": "ea95dbc2-6fd4-4788-ac19-e01d0dc66fcf",
   "metadata": {
    "tags": []
   },
   "outputs": [],
   "source": [
    "def rename_activity_6(activity):\n",
    "    keywords = ['surf','paddle','waves']\n",
    "    if any(keyword in activity.lower() for keyword in keywords):\n",
    "        return 'surf'\n",
    "    return activity"
   ]
  },
  {
   "cell_type": "code",
   "execution_count": 22,
   "id": "eee5d4f0-66c2-4e35-b60b-8d4c725184ea",
   "metadata": {
    "tags": []
   },
   "outputs": [],
   "source": [
    "df['activity'] = df['activity'].apply(rename_activity_1)\n",
    "df['activity'] = df['activity'].apply(rename_activity_3)\n",
    "df['activity'] = df['activity'].apply(rename_activity_2)\n",
    "df['activity'] = df['activity'].apply(rename_activity_4)\n",
    "df['activity'] = df['activity'].apply(rename_activity_5)\n",
    "df['activity'] = df['activity'].apply(rename_activity_6)"
   ]
  },
  {
   "cell_type": "code",
   "execution_count": 23,
   "id": "59cd4f50-9982-4a77-a902-35556c56a4e5",
   "metadata": {
    "tags": []
   },
   "outputs": [],
   "source": [
    "values_to_keep = df['activity'].value_counts()[df['activity'].value_counts() >= 9].index\n",
    "df = df[df['activity'].isin(values_to_keep)]    "
   ]
  },
  {
   "cell_type": "code",
   "execution_count": 24,
   "id": "5d726517-ed85-4a58-8614-a97fcdffe5a3",
   "metadata": {
    "tags": []
   },
   "outputs": [],
   "source": [
    "sex_dict={\"f\":\"Female\",\"m\":\"Male\",\"m_x_2\":\"Male\", \"lli\":\"Female\"}\n",
    "df.sex=df.sex.apply(lambda x : sex_dict.get(x,x))\n",
    "df.sex=df.sex.fillna(\"Uknown_sex\")"
   ]
  },
  {
   "cell_type": "code",
   "execution_count": 25,
   "id": "0cf2e652-a0b6-4cf7-aa13-7aa60a6914e8",
   "metadata": {
    "tags": []
   },
   "outputs": [],
   "source": [
    "#Ahora trabajamos lo mismo en injury para normalizarlo"
   ]
  },
  {
   "cell_type": "code",
   "execution_count": 26,
   "id": "c3f1805f-280b-4940-abb5-bea04a51454e",
   "metadata": {
    "tags": []
   },
   "outputs": [],
   "source": [
    "df.injury=df.injury.fillna('unknown_injury')"
   ]
  },
  {
   "cell_type": "code",
   "execution_count": 27,
   "id": "d390a442-8f5c-4d5f-a64c-01b5a0e43158",
   "metadata": {
    "tags": []
   },
   "outputs": [],
   "source": [
    "def rename_injury_1(injury):\n",
    "    keywords = ['bit',]\n",
    "    if any(keyword in injury for keyword in keywords):\n",
    "        return 'bitten'\n",
    "    return injury"
   ]
  },
  {
   "cell_type": "code",
   "execution_count": 28,
   "id": "d373c122-1aa9-490c-9f1d-e62b44622af4",
   "metadata": {
    "tags": []
   },
   "outputs": [],
   "source": [
    "def rename_injury_2(injury):\n",
    "    keywords = ['lac','bru']\n",
    "    if any(keyword in injury for keyword in keywords):\n",
    "        return 'lacerations'\n",
    "    return injury"
   ]
  },
  {
   "cell_type": "code",
   "execution_count": 29,
   "id": "81f67ec3-c45c-4987-b1b8-08fe599157a5",
   "metadata": {
    "tags": []
   },
   "outputs": [],
   "source": [
    "def rename_injury_3(injury):\n",
    "    keywords = ['no_injury','injury_no','uninjured','minor','surv','survived','details']\n",
    "    if any(keyword in injury for keyword in keywords):\n",
    "        return 'unscathed'\n",
    "    return injury"
   ]
  },
  {
   "cell_type": "code",
   "execution_count": 30,
   "id": "bb549f46-486f-4c9b-b370-aeb32c81f9d3",
   "metadata": {
    "tags": []
   },
   "outputs": [],
   "source": [
    "def rename_injury_4(injury):\n",
    "    keywords = ['injur']\n",
    "    if any(keyword in injury for keyword in keywords):\n",
    "        return 'small_injuries'\n",
    "    return injury"
   ]
  },
  {
   "cell_type": "code",
   "execution_count": 31,
   "id": "f9835bbf-a649-4914-9c9d-57ca9ad5b445",
   "metadata": {
    "tags": []
   },
   "outputs": [],
   "source": [
    "def rename_injury_5(injury):\n",
    "    keywords = ['pun']\n",
    "    if any(keyword in injury for keyword in keywords):\n",
    "        return 'punctures'\n",
    "    return injury"
   ]
  },
  {
   "cell_type": "code",
   "execution_count": 32,
   "id": "3cad0fba-fa23-4631-ab7b-2d58ae493065",
   "metadata": {
    "tags": []
   },
   "outputs": [],
   "source": [
    "def rename_injury_6(injury):\n",
    "    keywords = ['dea','fat']\n",
    "    if any(keyword in injury for keyword in keywords):\n",
    "        return 'fatal'\n",
    "    return injury"
   ]
  },
  {
   "cell_type": "code",
   "execution_count": 33,
   "id": "5a5d34ea-c38f-4396-a76e-a7e8d02ad207",
   "metadata": {
    "tags": []
   },
   "outputs": [],
   "source": [
    "df['injury'] = df['injury'].apply(rename_injury_1)\n",
    "df['injury'] = df['injury'].apply(rename_injury_2)\n",
    "df['injury'] = df['injury'].apply(rename_injury_3)\n",
    "df['injury'] = df['injury'].apply(rename_injury_4)\n",
    "df['injury'] = df['injury'].apply(rename_injury_5)\n",
    "df['injury'] = df['injury'].apply(rename_injury_6)"
   ]
  },
  {
   "cell_type": "code",
   "execution_count": 108,
   "id": "85c965ed-e04e-4057-89a3-701c5f87f65d",
   "metadata": {
    "tags": []
   },
   "outputs": [],
   "source": [
    "values_to_keep_5 = df['injury'].value_counts()[df['injury'].value_counts() >= 5].index\n",
    "df = df[df['injury'].isin(values_to_keep_5)]    "
   ]
  },
  {
   "cell_type": "code",
   "execution_count": 112,
   "id": "36b30abd-0fda-488f-80eb-38d1a86498ed",
   "metadata": {
    "tags": []
   },
   "outputs": [
    {
     "data": {
      "text/plain": [
       "injury\n",
       "bitten            561\n",
       "lacerations       549\n",
       "unscathed         156\n",
       "punctures          92\n",
       "small_injuries     86\n",
       "fatal              59\n",
       "Name: count, dtype: int64"
      ]
     },
     "execution_count": 112,
     "metadata": {},
     "output_type": "execute_result"
    }
   ],
   "source": [
    "df.injury.value_counts()"
   ]
  },
  {
   "cell_type": "code",
   "execution_count": 114,
   "id": "77b44738-a112-4c1a-b6ad-b31b619a8a45",
   "metadata": {
    "tags": []
   },
   "outputs": [],
   "source": [
    "df['species'].fillna('unknown shark', inplace=True)"
   ]
  },
  {
   "cell_type": "code",
   "execution_count": 116,
   "id": "7f2aeed4-075b-44d5-93fb-6716b299ff11",
   "metadata": {
    "tags": []
   },
   "outputs": [
    {
     "name": "stdout",
     "output_type": "stream",
     "text": [
      "<class 'pandas.core.frame.DataFrame'>\n",
      "Index: 1503 entries, 0 to 2515\n",
      "Data columns (total 12 columns):\n",
      " #   Column    Non-Null Count  Dtype  \n",
      "---  ------    --------------  -----  \n",
      " 0   year      1502 non-null   float64\n",
      " 1   type      1497 non-null   object \n",
      " 2   country   1503 non-null   object \n",
      " 3   area      1502 non-null   object \n",
      " 4   location  1489 non-null   object \n",
      " 5   activity  1503 non-null   object \n",
      " 6   name      1503 non-null   object \n",
      " 7   sex       1503 non-null   object \n",
      " 8   age       1503 non-null   float64\n",
      " 9   injury    1503 non-null   object \n",
      " 10  fatal     1503 non-null   object \n",
      " 11  species   1503 non-null   object \n",
      "dtypes: float64(2), object(10)\n",
      "memory usage: 152.6+ KB\n"
     ]
    }
   ],
   "source": [
    "df.info()"
   ]
  },
  {
   "cell_type": "code",
   "execution_count": 118,
   "id": "5759a360-1883-44e6-a66e-d352e6638bc7",
   "metadata": {
    "tags": []
   },
   "outputs": [],
   "source": [
    "df.species=df.species.str.replace(\"_\",\" \")\n",
    "df.species=df.species.str.lower()\n"
   ]
  },
  {
   "cell_type": "code",
   "execution_count": 120,
   "id": "f3c109e1-a209-4253-9c88-cb56846b251b",
   "metadata": {
    "tags": []
   },
   "outputs": [],
   "source": [
    "def categorizar_especie_principal(species, palabra_clave, categoria_principal):\n",
    "    if palabra_clave in species:\n",
    "        return categoria_principal\n",
    "    else:\n",
    "        return species"
   ]
  },
  {
   "cell_type": "code",
   "execution_count": 121,
   "id": "81bdfb32-cc44-4828-b514-a6d3f7a5f6d4",
   "metadata": {
    "tags": []
   },
   "outputs": [],
   "source": [
    "df['species'] = df['species'].apply(categorizar_especie_principal, palabra_clave='white', categoria_principal='White shark')\n",
    "df['species'] = df['species'].apply(categorizar_especie_principal, palabra_clave='tiger', categoria_principal='Tiger shark')\n",
    "df['species'] = df['species'].apply(categorizar_especie_principal, palabra_clave='bull', categoria_principal='Bull shark')\n",
    "df['species'] = df['species'].apply(categorizar_especie_principal, palabra_clave='wobbegong', categoria_principal='Wobbegong shark')\n",
    "df['species'] = df['species'].apply(categorizar_especie_principal, palabra_clave='blacktip', categoria_principal='Blacktip shark')\n",
    "df['species'] = df['species'].apply(categorizar_especie_principal, palabra_clave='mako', categoria_principal='Mako shark')\n",
    "df['species'] = df['species'].apply(categorizar_especie_principal, palabra_clave='raggedtooth', categoria_principal='Raggedtooth shark')\n",
    "df['species'] = df['species'].apply(categorizar_especie_principal, palabra_clave='bronze whaler', categoria_principal='Bronze whaler shark')\n",
    "df['species'] = df['species'].apply(categorizar_especie_principal, palabra_clave='lemon', categoria_principal='Lemon shark')\n",
    "df['species'] = df['species'].apply(categorizar_especie_principal, palabra_clave='oceanic whitetip', categoria_principal='Oceanic whitetip shark')\n",
    "df['species'] = df['species'].apply(categorizar_especie_principal, palabra_clave='sandtiger', categoria_principal='Sandtiger shark')\n",
    "df['species'] = df['species'].apply(categorizar_especie_principal, palabra_clave='zambesi', categoria_principal='Zambesi shark')\n",
    "df['species'] = df['species'].apply(categorizar_especie_principal, palabra_clave='hammerhead', categoria_principal='Hammerhead shark')\n",
    "df['species'] = df['species'].apply(categorizar_especie_principal, palabra_clave='spinner', categoria_principal='Spinner shark')\n",
    "df['species'] = df['species'].apply(categorizar_especie_principal, palabra_clave='basking', categoria_principal='Basking shark')\n",
    "df['species'] = df['species'].apply(categorizar_especie_principal, palabra_clave='sevengill', categoria_principal='Sevengill shark')\n",
    "df['species'] = df['species'].apply(categorizar_especie_principal, palabra_clave='angel', categoria_principal='Angel shark')\n",
    "df['species'] = df['species'].apply(categorizar_especie_principal, palabra_clave='grey', categoria_principal='Grey reef shark')\n",
    "df['species'] = df['species'].apply(categorizar_especie_principal, palabra_clave='caribbean', categoria_principal='Caribbean reef shark')\n",
    "df['species'] = df['species'].apply(categorizar_especie_principal, palabra_clave='galapagos', categoria_principal='Galapagos shark')\n",
    "df['species'] = df['species'].apply(categorizar_especie_principal, palabra_clave='cookiecutter', categoria_principal='Cookiecutter shark')\n",
    "df['species'] = df['species'].apply(categorizar_especie_principal, palabra_clave='bull', categoria_principal='bull shark')\n",
    "df['species'] = df['species'].apply(categorizar_especie_principal, palabra_clave='nurse', categoria_principal='Nurse shark')\n",
    "df['species'] = df['species'].apply(categorizar_especie_principal, palabra_clave='blue', categoria_principal='Blue shark')\n",
    "df['species'] = df['species'].apply(categorizar_especie_principal, palabra_clave='sand', categoria_principal='Sand shark')\n",
    "df['species'] = df['species'].apply(categorizar_especie_principal, palabra_clave='dusky', categoria_principal='Dusky shark')"
   ]
  },
  {
   "cell_type": "code",
   "execution_count": 124,
   "id": "0c78ee00-1b79-4bd3-9139-35507ca96871",
   "metadata": {
    "tags": []
   },
   "outputs": [],
   "source": [
    "def rename_age_1(age):\n",
    "    keywords = ['tee','ch','s']\n",
    "    if any(keyword in age for keyword in keywords):\n",
    "        return '15'\n",
    "    return age"
   ]
  },
  {
   "cell_type": "code",
   "execution_count": 126,
   "id": "6a9cf82e-828d-4890-8338-0a3be306850e",
   "metadata": {
    "tags": []
   },
   "outputs": [],
   "source": [
    "values_to_keep_2= df['age'].value_counts()[df['age'].value_counts() > 2].index\n",
    "df = df[df['age'].isin(values_to_keep_2)] "
   ]
  },
  {
   "cell_type": "code",
   "execution_count": 128,
   "id": "33fd530c-8602-4e79-a4bc-02d60a6b2281",
   "metadata": {
    "tags": []
   },
   "outputs": [
    {
     "ename": "TypeError",
     "evalue": "argument of type 'float' is not iterable",
     "output_type": "error",
     "traceback": [
      "\u001b[1;31m---------------------------------------------------------------------------\u001b[0m",
      "\u001b[1;31mTypeError\u001b[0m                                 Traceback (most recent call last)",
      "Cell \u001b[1;32mIn[128], line 1\u001b[0m\n\u001b[1;32m----> 1\u001b[0m df[\u001b[38;5;124m'\u001b[39m\u001b[38;5;124mage\u001b[39m\u001b[38;5;124m'\u001b[39m] \u001b[38;5;241m=\u001b[39m df[\u001b[38;5;124m'\u001b[39m\u001b[38;5;124mage\u001b[39m\u001b[38;5;124m'\u001b[39m]\u001b[38;5;241m.\u001b[39mapply(rename_age_1)\n",
      "File \u001b[1;32m~\\anaconda3\\Lib\\site-packages\\pandas\\core\\series.py:4630\u001b[0m, in \u001b[0;36mSeries.apply\u001b[1;34m(self, func, convert_dtype, args, **kwargs)\u001b[0m\n\u001b[0;32m   4520\u001b[0m \u001b[38;5;28;01mdef\u001b[39;00m \u001b[38;5;21mapply\u001b[39m(\n\u001b[0;32m   4521\u001b[0m     \u001b[38;5;28mself\u001b[39m,\n\u001b[0;32m   4522\u001b[0m     func: AggFuncType,\n\u001b[1;32m   (...)\u001b[0m\n\u001b[0;32m   4525\u001b[0m     \u001b[38;5;241m*\u001b[39m\u001b[38;5;241m*\u001b[39mkwargs,\n\u001b[0;32m   4526\u001b[0m ) \u001b[38;5;241m-\u001b[39m\u001b[38;5;241m>\u001b[39m DataFrame \u001b[38;5;241m|\u001b[39m Series:\n\u001b[0;32m   4527\u001b[0m \u001b[38;5;250m    \u001b[39m\u001b[38;5;124;03m\"\"\"\u001b[39;00m\n\u001b[0;32m   4528\u001b[0m \u001b[38;5;124;03m    Invoke function on values of Series.\u001b[39;00m\n\u001b[0;32m   4529\u001b[0m \n\u001b[1;32m   (...)\u001b[0m\n\u001b[0;32m   4628\u001b[0m \u001b[38;5;124;03m    dtype: float64\u001b[39;00m\n\u001b[0;32m   4629\u001b[0m \u001b[38;5;124;03m    \"\"\"\u001b[39;00m\n\u001b[1;32m-> 4630\u001b[0m     \u001b[38;5;28;01mreturn\u001b[39;00m SeriesApply(\u001b[38;5;28mself\u001b[39m, func, convert_dtype, args, kwargs)\u001b[38;5;241m.\u001b[39mapply()\n",
      "File \u001b[1;32m~\\anaconda3\\Lib\\site-packages\\pandas\\core\\apply.py:1025\u001b[0m, in \u001b[0;36mSeriesApply.apply\u001b[1;34m(self)\u001b[0m\n\u001b[0;32m   1022\u001b[0m     \u001b[38;5;28;01mreturn\u001b[39;00m \u001b[38;5;28mself\u001b[39m\u001b[38;5;241m.\u001b[39mapply_str()\n\u001b[0;32m   1024\u001b[0m \u001b[38;5;66;03m# self.f is Callable\u001b[39;00m\n\u001b[1;32m-> 1025\u001b[0m \u001b[38;5;28;01mreturn\u001b[39;00m \u001b[38;5;28mself\u001b[39m\u001b[38;5;241m.\u001b[39mapply_standard()\n",
      "File \u001b[1;32m~\\anaconda3\\Lib\\site-packages\\pandas\\core\\apply.py:1076\u001b[0m, in \u001b[0;36mSeriesApply.apply_standard\u001b[1;34m(self)\u001b[0m\n\u001b[0;32m   1074\u001b[0m     \u001b[38;5;28;01melse\u001b[39;00m:\n\u001b[0;32m   1075\u001b[0m         values \u001b[38;5;241m=\u001b[39m obj\u001b[38;5;241m.\u001b[39mastype(\u001b[38;5;28mobject\u001b[39m)\u001b[38;5;241m.\u001b[39m_values\n\u001b[1;32m-> 1076\u001b[0m         mapped \u001b[38;5;241m=\u001b[39m lib\u001b[38;5;241m.\u001b[39mmap_infer(\n\u001b[0;32m   1077\u001b[0m             values,\n\u001b[0;32m   1078\u001b[0m             f,\n\u001b[0;32m   1079\u001b[0m             convert\u001b[38;5;241m=\u001b[39m\u001b[38;5;28mself\u001b[39m\u001b[38;5;241m.\u001b[39mconvert_dtype,\n\u001b[0;32m   1080\u001b[0m         )\n\u001b[0;32m   1082\u001b[0m \u001b[38;5;28;01mif\u001b[39;00m \u001b[38;5;28mlen\u001b[39m(mapped) \u001b[38;5;129;01mand\u001b[39;00m \u001b[38;5;28misinstance\u001b[39m(mapped[\u001b[38;5;241m0\u001b[39m], ABCSeries):\n\u001b[0;32m   1083\u001b[0m     \u001b[38;5;66;03m# GH#43986 Need to do list(mapped) in order to get treated as nested\u001b[39;00m\n\u001b[0;32m   1084\u001b[0m     \u001b[38;5;66;03m#  See also GH#25959 regarding EA support\u001b[39;00m\n\u001b[0;32m   1085\u001b[0m     \u001b[38;5;28;01mreturn\u001b[39;00m obj\u001b[38;5;241m.\u001b[39m_constructor_expanddim(\u001b[38;5;28mlist\u001b[39m(mapped), index\u001b[38;5;241m=\u001b[39mobj\u001b[38;5;241m.\u001b[39mindex)\n",
      "File \u001b[1;32m~\\anaconda3\\Lib\\site-packages\\pandas\\_libs\\lib.pyx:2834\u001b[0m, in \u001b[0;36mpandas._libs.lib.map_infer\u001b[1;34m()\u001b[0m\n",
      "Cell \u001b[1;32mIn[124], line 3\u001b[0m, in \u001b[0;36mrename_age_1\u001b[1;34m(age)\u001b[0m\n\u001b[0;32m      1\u001b[0m \u001b[38;5;28;01mdef\u001b[39;00m \u001b[38;5;21mrename_age_1\u001b[39m(age):\n\u001b[0;32m      2\u001b[0m     keywords \u001b[38;5;241m=\u001b[39m [\u001b[38;5;124m'\u001b[39m\u001b[38;5;124mtee\u001b[39m\u001b[38;5;124m'\u001b[39m,\u001b[38;5;124m'\u001b[39m\u001b[38;5;124mch\u001b[39m\u001b[38;5;124m'\u001b[39m,\u001b[38;5;124m'\u001b[39m\u001b[38;5;124ms\u001b[39m\u001b[38;5;124m'\u001b[39m]\n\u001b[1;32m----> 3\u001b[0m     \u001b[38;5;28;01mif\u001b[39;00m \u001b[38;5;28many\u001b[39m(keyword \u001b[38;5;129;01min\u001b[39;00m age \u001b[38;5;28;01mfor\u001b[39;00m keyword \u001b[38;5;129;01min\u001b[39;00m keywords):\n\u001b[0;32m      4\u001b[0m         \u001b[38;5;28;01mreturn\u001b[39;00m \u001b[38;5;124m'\u001b[39m\u001b[38;5;124m15\u001b[39m\u001b[38;5;124m'\u001b[39m\n\u001b[0;32m      5\u001b[0m     \u001b[38;5;28;01mreturn\u001b[39;00m age\n",
      "Cell \u001b[1;32mIn[124], line 3\u001b[0m, in \u001b[0;36m<genexpr>\u001b[1;34m(.0)\u001b[0m\n\u001b[0;32m      1\u001b[0m \u001b[38;5;28;01mdef\u001b[39;00m \u001b[38;5;21mrename_age_1\u001b[39m(age):\n\u001b[0;32m      2\u001b[0m     keywords \u001b[38;5;241m=\u001b[39m [\u001b[38;5;124m'\u001b[39m\u001b[38;5;124mtee\u001b[39m\u001b[38;5;124m'\u001b[39m,\u001b[38;5;124m'\u001b[39m\u001b[38;5;124mch\u001b[39m\u001b[38;5;124m'\u001b[39m,\u001b[38;5;124m'\u001b[39m\u001b[38;5;124ms\u001b[39m\u001b[38;5;124m'\u001b[39m]\n\u001b[1;32m----> 3\u001b[0m     \u001b[38;5;28;01mif\u001b[39;00m \u001b[38;5;28many\u001b[39m(keyword \u001b[38;5;129;01min\u001b[39;00m age \u001b[38;5;28;01mfor\u001b[39;00m keyword \u001b[38;5;129;01min\u001b[39;00m keywords):\n\u001b[0;32m      4\u001b[0m         \u001b[38;5;28;01mreturn\u001b[39;00m \u001b[38;5;124m'\u001b[39m\u001b[38;5;124m15\u001b[39m\u001b[38;5;124m'\u001b[39m\n\u001b[0;32m      5\u001b[0m     \u001b[38;5;28;01mreturn\u001b[39;00m age\n",
      "\u001b[1;31mTypeError\u001b[0m: argument of type 'float' is not iterable"
     ]
    }
   ],
   "source": [
    "df['age'] = df['age'].apply(rename_age_1)"
   ]
  },
  {
   "cell_type": "code",
   "execution_count": 133,
   "id": "cf465e44-d88e-4dc3-b168-700b7d1cf00a",
   "metadata": {
    "tags": []
   },
   "outputs": [],
   "source": [
    "split_data_age = df.age.astype(float)"
   ]
  },
  {
   "cell_type": "code",
   "execution_count": 135,
   "id": "f6d33045-e1c1-43f4-a74e-407d4dc80b1d",
   "metadata": {
    "tags": []
   },
   "outputs": [],
   "source": [
    "df.age = df.age.astype(float)"
   ]
  },
  {
   "cell_type": "code",
   "execution_count": 137,
   "id": "5d855821-bd70-4fac-beb5-af41e516514e",
   "metadata": {
    "tags": []
   },
   "outputs": [
    {
     "data": {
      "text/html": [
       "<div>\n",
       "<style scoped>\n",
       "    .dataframe tbody tr th:only-of-type {\n",
       "        vertical-align: middle;\n",
       "    }\n",
       "\n",
       "    .dataframe tbody tr th {\n",
       "        vertical-align: top;\n",
       "    }\n",
       "\n",
       "    .dataframe thead th {\n",
       "        text-align: right;\n",
       "    }\n",
       "</style>\n",
       "<table border=\"1\" class=\"dataframe\">\n",
       "  <thead>\n",
       "    <tr style=\"text-align: right;\">\n",
       "      <th></th>\n",
       "      <th>year</th>\n",
       "      <th>type</th>\n",
       "      <th>country</th>\n",
       "      <th>area</th>\n",
       "      <th>location</th>\n",
       "      <th>activity</th>\n",
       "      <th>name</th>\n",
       "      <th>sex</th>\n",
       "      <th>age</th>\n",
       "      <th>injury</th>\n",
       "      <th>fatal</th>\n",
       "      <th>species</th>\n",
       "    </tr>\n",
       "  </thead>\n",
       "  <tbody>\n",
       "    <tr>\n",
       "      <th>0</th>\n",
       "      <td>2023.0</td>\n",
       "      <td>unprovoked</td>\n",
       "      <td>usa</td>\n",
       "      <td>new_york</td>\n",
       "      <td>beach_3,_robert_moses_state_park,_suffolk_county</td>\n",
       "      <td>swimming</td>\n",
       "      <td>unknown</td>\n",
       "      <td>Female</td>\n",
       "      <td>15.0</td>\n",
       "      <td>punctures</td>\n",
       "      <td>n</td>\n",
       "      <td>Tiger shark</td>\n",
       "    </tr>\n",
       "    <tr>\n",
       "      <th>1</th>\n",
       "      <td>2022.0</td>\n",
       "      <td>unprovoked</td>\n",
       "      <td>usa</td>\n",
       "      <td>florida</td>\n",
       "      <td>daytona_beach_shores,_volusia_county</td>\n",
       "      <td>unknown_activity</td>\n",
       "      <td>tasa_summers</td>\n",
       "      <td>Female</td>\n",
       "      <td>40.0</td>\n",
       "      <td>lacerations</td>\n",
       "      <td>n</td>\n",
       "      <td>a small shark</td>\n",
       "    </tr>\n",
       "    <tr>\n",
       "      <th>2</th>\n",
       "      <td>2022.0</td>\n",
       "      <td>unprovoked</td>\n",
       "      <td>usa</td>\n",
       "      <td>florida</td>\n",
       "      <td>anna_maria_island,_manatee_county</td>\n",
       "      <td>surf</td>\n",
       "      <td>erika_lane</td>\n",
       "      <td>Female</td>\n",
       "      <td>42.0</td>\n",
       "      <td>punctures</td>\n",
       "      <td>n</td>\n",
       "      <td>Blacktip shark</td>\n",
       "    </tr>\n",
       "    <tr>\n",
       "      <th>3</th>\n",
       "      <td>2021.0</td>\n",
       "      <td>unprovoked</td>\n",
       "      <td>usa</td>\n",
       "      <td>florida</td>\n",
       "      <td>bathtub_beach,_martin_county</td>\n",
       "      <td>fishing</td>\n",
       "      <td>amiya_lobb-smith</td>\n",
       "      <td>Female</td>\n",
       "      <td>9.0</td>\n",
       "      <td>bitten</td>\n",
       "      <td>n</td>\n",
       "      <td>Spinner shark</td>\n",
       "    </tr>\n",
       "    <tr>\n",
       "      <th>4</th>\n",
       "      <td>2019.0</td>\n",
       "      <td>unprovoked</td>\n",
       "      <td>usa</td>\n",
       "      <td>florida</td>\n",
       "      <td>jacksonville_beach,_duval_county</td>\n",
       "      <td>unknown_activity</td>\n",
       "      <td>uknown_name</td>\n",
       "      <td>Male</td>\n",
       "      <td>25.0</td>\n",
       "      <td>unscathed</td>\n",
       "      <td>n</td>\n",
       "      <td>unknown shark</td>\n",
       "    </tr>\n",
       "  </tbody>\n",
       "</table>\n",
       "</div>"
      ],
      "text/plain": [
       "     year        type country      area  \\\n",
       "0  2023.0  unprovoked     usa  new_york   \n",
       "1  2022.0  unprovoked     usa   florida   \n",
       "2  2022.0  unprovoked     usa   florida   \n",
       "3  2021.0  unprovoked     usa   florida   \n",
       "4  2019.0  unprovoked     usa   florida   \n",
       "\n",
       "                                           location          activity  \\\n",
       "0  beach_3,_robert_moses_state_park,_suffolk_county          swimming   \n",
       "1              daytona_beach_shores,_volusia_county  unknown_activity   \n",
       "2                 anna_maria_island,_manatee_county              surf   \n",
       "3                      bathtub_beach,_martin_county           fishing   \n",
       "4                  jacksonville_beach,_duval_county  unknown_activity   \n",
       "\n",
       "               name     sex   age       injury fatal         species  \n",
       "0           unknown  Female  15.0    punctures     n     Tiger shark  \n",
       "1      tasa_summers  Female  40.0  lacerations     n   a small shark  \n",
       "2        erika_lane  Female  42.0    punctures     n  Blacktip shark  \n",
       "3  amiya_lobb-smith  Female   9.0       bitten     n   Spinner shark  \n",
       "4       uknown_name    Male  25.0    unscathed     n   unknown shark  "
      ]
     },
     "execution_count": 137,
     "metadata": {},
     "output_type": "execute_result"
    }
   ],
   "source": [
    "df.head()"
   ]
  },
  {
   "cell_type": "code",
   "execution_count": 174,
   "id": "4a2e0e8a-7b2a-42b2-b73b-9b51179fb29f",
   "metadata": {},
   "outputs": [],
   "source": [
    "df_new_1=df.groupby([\"area\",\"activity\",\"injury\",\"species\"]).agg({\"age\":\"mean\"})"
   ]
  },
  {
   "cell_type": "code",
   "execution_count": null,
   "id": "3c261de5-6516-4d8a-b7b4-e8d6cf3a1e67",
   "metadata": {
    "tags": []
   },
   "outputs": [],
   "source": []
  },
  {
   "cell_type": "code",
   "execution_count": 177,
   "id": "6d357eb7-425b-4445-9528-27a627ed469d",
   "metadata": {
    "tags": []
   },
   "outputs": [],
   "source": [
    "df_ataques=df_nsw_1.round()"
   ]
  },
  {
   "cell_type": "code",
   "execution_count": 179,
   "id": "14f05f96-ec5c-4dfc-b58a-c08b7427ca55",
   "metadata": {
    "tags": []
   },
   "outputs": [],
   "source": [
    "table=pd.DataFrame(table)"
   ]
  },
  {
   "cell_type": "code",
   "execution_count": 190,
   "id": "cedd15a5-df02-4c28-ad8d-7f463feb52b0",
   "metadata": {
    "tags": []
   },
   "outputs": [
    {
     "data": {
      "text/html": [
       "<div>\n",
       "<style scoped>\n",
       "    .dataframe tbody tr th:only-of-type {\n",
       "        vertical-align: middle;\n",
       "    }\n",
       "\n",
       "    .dataframe tbody tr th {\n",
       "        vertical-align: top;\n",
       "    }\n",
       "\n",
       "    .dataframe thead th {\n",
       "        text-align: right;\n",
       "    }\n",
       "</style>\n",
       "<table border=\"1\" class=\"dataframe\">\n",
       "  <thead>\n",
       "    <tr style=\"text-align: right;\">\n",
       "      <th></th>\n",
       "      <th></th>\n",
       "      <th></th>\n",
       "      <th></th>\n",
       "      <th>age</th>\n",
       "    </tr>\n",
       "    <tr>\n",
       "      <th>area</th>\n",
       "      <th>activity</th>\n",
       "      <th>injury</th>\n",
       "      <th>species</th>\n",
       "      <th></th>\n",
       "    </tr>\n",
       "  </thead>\n",
       "  <tbody>\n",
       "    <tr>\n",
       "      <th rowspan=\"5\" valign=\"top\">alabama</th>\n",
       "      <th>boarding</th>\n",
       "      <th>fatal</th>\n",
       "      <th>unknown shark</th>\n",
       "      <td>23.0</td>\n",
       "    </tr>\n",
       "    <tr>\n",
       "      <th>fishing</th>\n",
       "      <th>bitten</th>\n",
       "      <th>Bull shark</th>\n",
       "      <td>43.0</td>\n",
       "    </tr>\n",
       "    <tr>\n",
       "      <th rowspan=\"3\" valign=\"top\">swimming</th>\n",
       "      <th>bitten</th>\n",
       "      <th>unknown shark</th>\n",
       "      <td>24.0</td>\n",
       "    </tr>\n",
       "    <tr>\n",
       "      <th rowspan=\"2\" valign=\"top\">lacerations</th>\n",
       "      <th>4' to 5' shark</th>\n",
       "      <td>7.0</td>\n",
       "    </tr>\n",
       "    <tr>\n",
       "      <th>Blacktip shark</th>\n",
       "      <td>14.0</td>\n",
       "    </tr>\n",
       "  </tbody>\n",
       "</table>\n",
       "</div>"
      ],
      "text/plain": [
       "                                              age\n",
       "area    activity injury      species             \n",
       "alabama boarding fatal       unknown shark   23.0\n",
       "        fishing  bitten      Bull shark      43.0\n",
       "        swimming bitten      unknown shark   24.0\n",
       "                 lacerations 4' to 5' shark   7.0\n",
       "                             Blacktip shark  14.0"
      ]
     },
     "execution_count": 190,
     "metadata": {},
     "output_type": "execute_result"
    }
   ],
   "source": [
    "df_ataques.head()"
   ]
  },
  {
   "cell_type": "code",
   "execution_count": 188,
   "id": "c4ca1322-d312-48bc-98e2-7954629f387b",
   "metadata": {
    "tags": []
   },
   "outputs": [
    {
     "data": {
      "image/png": "[encoded data removed]",
      "text/plain": [
       "<Figure size 640x480 with 1 Axes>"
      ]
     },
     "metadata": {},
     "output_type": "display_data"
    }
   ],
   "source": [
    "df_plot=df.injury.value_counts().plot()"
   ]
  },
  {
   "cell_type": "code",
   "execution_count": 196,
   "id": "007db7e5-f41f-479f-b7fe-f9fd1d70456b",
   "metadata": {
    "tags": []
   },
   "outputs": [],
   "source": [
    "df_plot2=df.groupby([\"area\"])[\"injury\"].value_counts()"
   ]
  },
  {
   "cell_type": "code",
   "execution_count": null,
   "id": "722a2395-6cc8-444f-85f6-f8e174052d40",
   "metadata": {},
   "outputs": [],
   "source": []
  },
  {
   "cell_type": "code",
   "execution_count": null,
   "id": "f4da3b34-1ff4-4640-aacb-ca7bfeba9c3e",
   "metadata": {},
   "outputs": [],
   "source": []
  }
 ],
 "metadata": {
  "kernelspec": {
   "display_name": "Python 3 (ipykernel)",
   "language": "python",
   "name": "python3"
  },
  "language_info": {
   "codemirror_mode": {
    "name": "ipython",
    "version": 3
   },
   "file_extension": ".py",
   "mimetype": "text/x-python",
   "name": "python",
   "nbconvert_exporter": "python",
   "pygments_lexer": "ipython3",
   "version": "3.11.5"
  }
 },
 "nbformat": 4,
 "nbformat_minor": 5
}
