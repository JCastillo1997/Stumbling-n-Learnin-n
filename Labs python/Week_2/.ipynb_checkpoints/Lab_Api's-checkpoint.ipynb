{
 "cells": [
  {
   "cell_type": "code",
   "execution_count": 1,
   "id": "bdfabad1-f710-4fa2-91be-dfdf80e360b6",
   "metadata": {},
   "outputs": [],
   "source": [
    "\n",
    "\n",
    "import spotipy\n",
    "from spotipy.oauth2 import SpotifyClientCredentials\n",
    "sp = spotipy.Spotify(auth_manager=SpotifyClientCredentials(client_id='8aaea3fe61404b23aa07c9f760df3985',\n",
    "                                                           client_secret=\"e6670aad9bc94f1ba66f382abe39394c\"))"
   ]
  },
  {
   "cell_type": "code",
   "execution_count": 2,
   "id": "9d26b0ad-c4c3-4f07-aed3-f534643d4832",
   "metadata": {
    "tags": []
   },
   "outputs": [],
   "source": [
    "# 1. \n",
    "artists = [\"Rosalia\", 'Amaia', 'Amaia']"
   ]
  },
  {
   "cell_type": "code",
   "execution_count": 3,
   "id": "bb49a6e5-37b1-421a-8f57-05f0ee48ca9f",
   "metadata": {
    "tags": []
   },
   "outputs": [
    {
     "data": {
      "text/plain": [
       "'DESPECHÁ'"
      ]
     },
     "execution_count": 3,
     "metadata": {},
     "output_type": "execute_result"
    }
   ],
   "source": [
    "sp.search(q='Rosalia', limit=5)['tracks']['items'][0]['name']"
   ]
  },
  {
   "cell_type": "code",
   "execution_count": 8,
   "id": "48b880c5-ee89-4b64-8b97-b0a7d309260b",
   "metadata": {
    "tags": []
   },
   "outputs": [
    {
     "ename": "NameError",
     "evalue": "name 'items' is not defined",
     "output_type": "error",
     "traceback": [
      "\u001b[1;31m---------------------------------------------------------------------------\u001b[0m",
      "\u001b[1;31mNameError\u001b[0m                                 Traceback (most recent call last)",
      "Cell \u001b[1;32mIn[8], line 6\u001b[0m\n\u001b[0;32m      1\u001b[0m songs \u001b[38;5;241m=\u001b[39m sp\u001b[38;5;241m.\u001b[39msearch(q\u001b[38;5;241m=\u001b[39martists, limit\u001b[38;5;241m=\u001b[39m\u001b[38;5;241m5\u001b[39m)[\u001b[38;5;124m'\u001b[39m\u001b[38;5;124mtracks\u001b[39m\u001b[38;5;124m'\u001b[39m][\u001b[38;5;124m'\u001b[39m\u001b[38;5;124mitems\u001b[39m\u001b[38;5;124m'\u001b[39m]\n\u001b[0;32m      3\u001b[0m lst \u001b[38;5;241m=\u001b[39m []\n\u001b[1;32m----> 6\u001b[0m \u001b[38;5;28;01mfor\u001b[39;00m e \u001b[38;5;129;01min\u001b[39;00m items:\n\u001b[0;32m      8\u001b[0m     lst\u001b[38;5;241m.\u001b[39mappend(e[\u001b[38;5;124m'\u001b[39m\u001b[38;5;124mname\u001b[39m\u001b[38;5;124m'\u001b[39m])\n",
      "\u001b[1;31mNameError\u001b[0m: name 'items' is not defined"
     ]
    }
   ],
   "source": [
    "songs = sp.search(q=artists, limit=5)['tracks']['items']\n",
    "\n",
    "lst = []\n",
    "\n",
    "\n",
    "for e in items:\n",
    "    \n",
    "    lst.append(e['name'])"
   ]
  },
  {
   "cell_type": "code",
   "execution_count": 12,
   "id": "d2140825-9b7c-4519-a6fa-bcacc4dd503f",
   "metadata": {
    "tags": []
   },
   "outputs": [],
   "source": [
    "items = sp.search(q='Rosalia', limit=5)['tracks']['items']\n",
    "\n",
    "lst_2 = []\n",
    "\n",
    "\n",
    "for e in items:\n",
    "    \n",
    "    lst.append(e['name'])"
   ]
  },
  {
   "cell_type": "code",
   "execution_count": 16,
   "id": "0d8eeed1-d6a9-4f57-b98a-008f22053e8f",
   "metadata": {
    "tags": []
   },
   "outputs": [
    {
     "data": {
      "text/plain": [
       "[]"
      ]
     },
     "execution_count": 16,
     "metadata": {},
     "output_type": "execute_result"
    }
   ],
   "source": [
    "lst_2"
   ]
  },
  {
   "cell_type": "code",
   "execution_count": 19,
   "id": "9666eb70-cb80-4bed-aba9-5357ad740418",
   "metadata": {
    "tags": []
   },
   "outputs": [],
   "source": [
    "def get_top_tracks(artista):\n",
    "    \n",
    "    canciones= sp.search(q=artista, limit=limit)['tracks']['items']\n",
    "    \n",
    "    devolver = [e['name'] for e in items]\n",
    "    \n",
    "    return devolver"
   ]
  },
  {
   "cell_type": "code",
   "execution_count": null,
   "id": "36064d33-67f3-4b6e-92cf-25cea42f36d0",
   "metadata": {},
   "outputs": [],
   "source": []
  },
  {
   "cell_type": "code",
   "execution_count": 23,
   "id": "f0068f65-d75e-411a-9c5d-10d465dc5647",
   "metadata": {
    "tags": []
   },
   "outputs": [
    {
     "ename": "NameError",
     "evalue": "name 'limit' is not defined",
     "output_type": "error",
     "traceback": [
      "\u001b[1;31m---------------------------------------------------------------------------\u001b[0m",
      "\u001b[1;31mNameError\u001b[0m                                 Traceback (most recent call last)",
      "Cell \u001b[1;32mIn[23], line 1\u001b[0m\n\u001b[1;32m----> 1\u001b[0m get_top_tracks(\u001b[38;5;124m'\u001b[39m\u001b[38;5;124mrosalia\u001b[39m\u001b[38;5;124m'\u001b[39m)\n",
      "Cell \u001b[1;32mIn[19], line 3\u001b[0m, in \u001b[0;36mget_top_tracks\u001b[1;34m(artista)\u001b[0m\n\u001b[0;32m      1\u001b[0m \u001b[38;5;28;01mdef\u001b[39;00m \u001b[38;5;21mget_top_tracks\u001b[39m(artista,):\n\u001b[1;32m----> 3\u001b[0m     canciones\u001b[38;5;241m=\u001b[39m sp\u001b[38;5;241m.\u001b[39msearch(q\u001b[38;5;241m=\u001b[39martista, limit\u001b[38;5;241m=\u001b[39mlimit)[\u001b[38;5;124m'\u001b[39m\u001b[38;5;124mtracks\u001b[39m\u001b[38;5;124m'\u001b[39m][\u001b[38;5;124m'\u001b[39m\u001b[38;5;124mitems\u001b[39m\u001b[38;5;124m'\u001b[39m]\n\u001b[0;32m      5\u001b[0m     res \u001b[38;5;241m=\u001b[39m [e[\u001b[38;5;124m'\u001b[39m\u001b[38;5;124mname\u001b[39m\u001b[38;5;124m'\u001b[39m] \u001b[38;5;28;01mfor\u001b[39;00m e \u001b[38;5;129;01min\u001b[39;00m items]\n\u001b[0;32m      7\u001b[0m     \u001b[38;5;28;01mreturn\u001b[39;00m res\n",
      "\u001b[1;31mNameError\u001b[0m: name 'limit' is not defined"
     ]
    }
   ],
   "source": [
    "get_top_tracks('rosalia')"
   ]
  },
  {
   "cell_type": "code",
   "execution_count": 29,
   "id": "1270872e-aee9-42f3-9912-47db157e2af9",
   "metadata": {
    "tags": []
   },
   "outputs": [],
   "source": [
    "def get_top_tracks_limitada(artista):\n",
    "    \n",
    "    canciones= sp.search(q=artista, limit=5)['tracks']['items']\n",
    "    \n",
    "    \n",
    "    devolver = [e['name'] for e in items]\n",
    "    \n",
    "    return devolver"
   ]
  },
  {
   "cell_type": "code",
   "execution_count": 31,
   "id": "bc753af1-deda-4133-95e5-40cc38ecdcea",
   "metadata": {
    "tags": []
   },
   "outputs": [
    {
     "data": {
      "text/plain": [
       "['DESPECHÁ', 'BESO', 'LA FAMA', 'BIZCOCHITO', 'LA NOCHE DE ANOCHE']"
      ]
     },
     "execution_count": 31,
     "metadata": {},
     "output_type": "execute_result"
    }
   ],
   "source": [
    "get_top_tracks_limitada('rosalia')"
   ]
  },
  {
   "cell_type": "code",
   "execution_count": 37,
   "id": "8a0c8f81-4e04-46a3-aebb-b536564138c1",
   "metadata": {
    "tags": []
   },
   "outputs": [
    {
     "name": "stdout",
     "output_type": "stream",
     "text": [
      "[['DESPECHÁ', 'BESO', 'LA FAMA', 'BIZCOCHITO', 'LA NOCHE DE ANOCHE']]\n",
      "[['DESPECHÁ', 'BESO', 'LA FAMA', 'BIZCOCHITO', 'LA NOCHE DE ANOCHE']]\n",
      "[['DESPECHÁ', 'BESO', 'LA FAMA', 'BIZCOCHITO', 'LA NOCHE DE ANOCHE']]\n"
     ]
    }
   ],
   "source": [
    "for I in artists:\n",
    "    res = []\n",
    "    res.append(get_top_tracks('rosalia'))\n",
    "    print(res)"
   ]
  },
  {
   "cell_type": "code",
   "execution_count": 47,
   "id": "416cb54f-a0b5-40f3-92f9-9ec7b35292da",
   "metadata": {
    "tags": []
   },
   "outputs": [],
   "source": [
    "# Correción de Jona\n",
    "\n",
    "def related_artists(artista, limit=5):\n",
    "    \n",
    "    art_id = sp.search(q=artista, limit=1)['tracks']['items'][0]['artists'][0]['id']\n",
    "    \n",
    "    \n",
    "    rel = sp.artist_related_artists(art_id)\n",
    "    \n",
    "    \n",
    "    res = [e['name'] for e in rel['artists'][:limit]]\n",
    "    \n",
    "    \n",
    "    return res"
   ]
  },
  {
   "cell_type": "code",
   "execution_count": 49,
   "id": "9e742314-f2ad-42ca-9cac-66f83fe9513d",
   "metadata": {
    "tags": []
   },
   "outputs": [
    {
     "data": {
      "text/plain": [
       "['NATHY PELUSO', 'Lola Indigo', 'C. Tangana', 'Bad Gyal', 'Aitana']"
      ]
     },
     "execution_count": 49,
     "metadata": {},
     "output_type": "execute_result"
    }
   ],
   "source": [
    "related_artists('rosalia') #Aitana es clavaita a Rosalia, el algoritmo va mal"
   ]
  }
 ],
 "metadata": {
  "kernelspec": {
   "display_name": "Python 3 (ipykernel)",
   "language": "python",
   "name": "python3"
  },
  "language_info": {
   "codemirror_mode": {
    "name": "ipython",
    "version": 3
   },
   "file_extension": ".py",
   "mimetype": "text/x-python",
   "name": "python",
   "nbconvert_exporter": "python",
   "pygments_lexer": "ipython3",
   "version": "3.11.5"
  }
 },
 "nbformat": 4,
 "nbformat_minor": 5
}
